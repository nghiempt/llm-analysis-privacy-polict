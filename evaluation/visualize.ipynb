{
 "cells": [
  {
   "cell_type": "markdown",
   "metadata": {},
   "source": [
    "### Need to change \"Case x\" & \"Case y\" to work"
   ]
  },
  {
   "cell_type": "code",
   "execution_count": null,
   "metadata": {},
   "outputs": [],
   "source": [
    "import pandas as pd\n",
    "import matplotlib.pyplot as plt\n",
    "import numpy as np\n",
    "\n",
    "def load_data_from_csv(file_path):\n",
    "    df = pd.read_csv(file_path)\n",
    "    data = {}\n",
    "    cases = df['Case'].unique()\n",
    "    categories = df['Category'].unique()\n",
    "    metrics = ['P', 'R', 'F1', 'A']\n",
    "    \n",
    "    for case in cases:\n",
    "        data[case] = {}\n",
    "        for category in categories:\n",
    "            data[case][category] = df[(df['Case'] == case) & (df['Category'] == category)][metrics].values.flatten().tolist()\n",
    "    return data, categories, metrics\n",
    "\n",
    "file_path = 'data.csv'\n",
    "data, categories, metrics = load_data_from_csv(file_path)\n",
    "\n",
    "fig, axs = plt.subplots(1, len(categories), figsize=(12, 6))\n",
    "fig.suptitle('Performance Metrics Comparison', y=1.08)\n",
    "\n",
    "_colors = ['#AF8F6F', '#A1DD70']\n",
    "\n",
    "bar_width = 0.35\n",
    "index = np.arange(len(metrics))\n",
    "\n",
    "for col, category in enumerate(categories):\n",
    "    case1_data = data['Case x'][category]\n",
    "    case2_data = data['Case y'][category]\n",
    "    \n",
    "    bars1 = axs[col].bar(index, case1_data, bar_width, label='Case x', color=_colors[0])\n",
    "    bars2 = axs[col].bar(index + bar_width, case2_data, bar_width, label='Case y', color=_colors[1])\n",
    "    \n",
    "    axs[col].set_title(category, pad=30)\n",
    "    axs[col].set_xticks(index + bar_width / 2)\n",
    "    axs[col].set_xticklabels(metrics)\n",
    "    axs[col].set_ylim(0, 1)\n",
    "    axs[col].set_ylabel('Score')\n",
    "    axs[col].grid(True,color = 'gray', which='both', linestyle='--', linewidth=0.2)\n",
    "\n",
    "    axs[col].spines['right'].set_visible(False)\n",
    "    axs[col].spines['top'].set_visible(False)\n",
    "    \n",
    "    for bar in bars1:\n",
    "        height = bar.get_height()\n",
    "        axs[col].annotate(f'{height:.3f}', \n",
    "                          xy=(bar.get_x() + bar.get_width() / 2, height),\n",
    "                          xytext=(0, 3),\n",
    "                          textcoords=\"offset points\",\n",
    "                          ha='center', va='bottom', fontsize=10, color='blue')\n",
    "    \n",
    "    for bar in bars2:\n",
    "        height = bar.get_height()\n",
    "        axs[col].annotate(f'{height:.3f}', \n",
    "                          xy=(bar.get_x() + bar.get_width() / 2, height),\n",
    "                          xytext=(0, 3),\n",
    "                          textcoords=\"offset points\",\n",
    "                          ha='center', va='bottom', fontsize=10, color='orange')\n",
    "        \n",
    "fig.legend(['Case x', 'Case y'], loc='lower center', ncol=2, bbox_to_anchor=(0.5, 0.0))\n",
    "\n",
    "plt.tight_layout(rect=[0, 0.1, 1, 0.96])\n",
    "plt.show()"
   ]
  }
 ],
 "metadata": {
  "kernelspec": {
   "display_name": "Python 3",
   "language": "python",
   "name": "python3"
  },
  "language_info": {
   "codemirror_mode": {
    "name": "ipython",
    "version": 3
   },
   "file_extension": ".py",
   "mimetype": "text/x-python",
   "name": "python",
   "nbconvert_exporter": "python",
   "pygments_lexer": "ipython3",
   "version": "3.8.2"
  }
 },
 "nbformat": 4,
 "nbformat_minor": 2
}
